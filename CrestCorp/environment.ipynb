{
 "cells": [
  {
   "cell_type": "code",
   "execution_count": 1,
   "metadata": {},
   "outputs": [],
   "source": [
    "import sys\n",
    "sys.path.append('../')"
   ]
  },
  {
   "cell_type": "code",
   "execution_count": 2,
   "metadata": {},
   "outputs": [],
   "source": [
    "# importnb allows us to load the code from other notebooks\n",
    "from importnb import Notebook\n",
    "with Notebook():\n",
    "    import CrestCorp.common as common"
   ]
  },
  {
   "cell_type": "code",
   "execution_count": 3,
   "metadata": {},
   "outputs": [],
   "source": [
    "# import all modeling concepts\n",
    "from crestdsl.model import *\n",
    "\n",
    "# import the simulator\n",
    "from crestdsl.simulation import Simulator\n",
    "\n",
    "# import the plotting libraries that can visualise the CREST systems\n",
    "from crestdsl.ui import elk\n",
    "\n",
    "# we will create tests for each Entity\n",
    "import unittest\n",
    "\n",
    "class TestClass(unittest.TestCase):\n",
    "    @classmethod\n",
    "    def runall(cls):\n",
    "        tests = unittest.TestLoader().loadTestsFromTestCase(cls)\n",
    "        return unittest.TextTestRunner().run(tests)\n",
    "    \n",
    "import crestdsl.ml as crestml\n"
   ]
  },
  {
   "cell_type": "code",
   "execution_count": 4,
   "metadata": {},
   "outputs": [],
   "source": [
    "import logging\n",
    "fllog = logging.getLogger(\"crestdsl.ml.functionlearn\")\n",
    "fllog.setLevel(logging.DEBUG)\n",
    "mllog = logging.getLogger(\"crestdsl.ml.functionlearn\")\n",
    "mllog.setLevel(logging.DEBUG)"
   ]
  },
  {
   "cell_type": "code",
   "execution_count": 5,
   "metadata": {
    "scrolled": false
   },
   "outputs": [],
   "source": [
    "import math\n",
    "class Environment(Entity):\n",
    "    state = current = State()\n",
    "    \n",
    "    sun_intensity = Output(resource=common.res_lux, value=0)\n",
    "    time = Local(resource=common.res_time, value=0)\n",
    "    \n",
    "    update(state=state, target=time)\n",
    "    def update_time(self, dt):\n",
    "        return self.time.value + dt\n",
    "\n",
    "    @crestml.learn(learner='fastpiecewise', segments=9, samples=1000, ranges={time: (0, 1440)})\n",
    "    @influence(source=time, target=sun_intensity)\n",
    "    def influence_sun_intensity(value):\n",
    "        return (math.sin(((value % 1440)/1440.0) * 2 * math.pi - 0.5 * math.pi) + 1) * 63500\n",
    "\n",
    "# env = Environment()\n",
    "\n",
    "# learned = env.influence_sun_intensity.function\n",
    "# df = learned.data\n",
    "# model = learned.model\n",
    "\n",
    "# print(learned.source)\n",
    "\n",
    "# import matplotlib as plt\n",
    "# import numpy as np\n",
    "# import pandas as pd\n",
    "\n",
    "# df = pd.DataFrame()\n",
    "# df[\"x\"] = np.arange(0, 1440, 10).reshape(-1,)\n",
    "# df[\"defined\"] = df.apply(lambda row: Environment().influence_sun_intensity.function.original_function(row[\"x\"]), axis=1)\n",
    "# df[\"regression\"] = df.apply(lambda row: Environment().influence_sun_intensity.function(row[\"x\"]), axis=1)\n",
    "\n",
    "# # %matplotlib inline\n",
    "# # df.plot()\n",
    "\n",
    "# # crest.Validator(Environment()).check_all()\n",
    "\n",
    "# sim = crestsim.Simulator(Environment())\n",
    "# sim.system.time.value = 0\n",
    "# sim.stabilise()\n",
    "# for _ in range(144):\n",
    "#     sim.advance(10)\n",
    "# #     print(sim.system.time.value, sim.system.sun_intensity.value == model.predict([sim.system.time.value]), sim.system.sun_intensity.value, model.predict([sim.system.time.value]))\n",
    "# sim.plot()\n",
    "    \n",
    "\n",
    "# # print(df[df[\"self.time.value\"] == 720])\n",
    "# # print(model.predict([720]))\n",
    "\n",
    "# # X = df[\"self.time.value\"]\n",
    "# # y = df.function_return_value\n",
    "# # plt.scatter(x=X, y=y,color='g',marker=\"x\")\n",
    "# # # print(model.predict(df[\"time\"].values.reshape(-1,1)))\n",
    "# # plt.plot(df[\"self.time.value\"], model.predict(df[\"self.time.value\"]),color='k')\n",
    "# # plt.show()\n",
    "# # df"
   ]
  },
  {
   "cell_type": "code",
   "execution_count": null,
   "metadata": {},
   "outputs": [],
   "source": []
  }
 ],
 "metadata": {
  "kernelspec": {
   "display_name": "Python 3",
   "language": "python",
   "name": "python3"
  },
  "language_info": {
   "codemirror_mode": {
    "name": "ipython",
    "version": 3
   },
   "file_extension": ".py",
   "mimetype": "text/x-python",
   "name": "python",
   "nbconvert_exporter": "python",
   "pygments_lexer": "ipython3",
   "version": "3.7.3"
  }
 },
 "nbformat": 4,
 "nbformat_minor": 2
}
